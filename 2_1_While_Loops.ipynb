{
  "nbformat": 4,
  "nbformat_minor": 0,
  "metadata": {
    "colab": {
      "name": "2.1_While_Loops.ipynb",
      "provenance": [],
      "include_colab_link": true
    },
    "kernelspec": {
      "name": "python3",
      "display_name": "Python 3"
    },
    "language_info": {
      "name": "python"
    }
  },
  "cells": [
    {
      "cell_type": "markdown",
      "metadata": {
        "id": "view-in-github",
        "colab_type": "text"
      },
      "source": [
        "<a href=\"https://colab.research.google.com/github/ab1234560/iDtech/blob/main/2_1_While_Loops.ipynb\" target=\"_parent\"><img src=\"https://colab.research.google.com/assets/colab-badge.svg\" alt=\"Open In Colab\"/></a>"
      ]
    },
    {
      "cell_type": "markdown",
      "metadata": {
        "id": "0Mv-ZxO9qp49"
      },
      "source": [
        "#While Loops\n",
        "\n",
        "In programming, **loops** allow you to repeat a block of code a number of times.\n",
        "\n",
        "For times when a block of code needs to run an uncertain or non-specific amount of times, you use a **while loop**.\n",
        "\n",
        "##Control Variables\n",
        "\n",
        "You use a **control variable** to set when your loop does and doesn't run. If you want your loop to repeat until a user guesses correctly, use a boolean control variable.\n",
        "\n"
      ]
    },
    {
      "cell_type": "code",
      "metadata": {
        "id": "tARGIHfIqpAo"
      },
      "source": [
        "# This is the control variable\n",
        "running = True"
      ],
      "execution_count": 2,
      "outputs": []
    },
    {
      "cell_type": "markdown",
      "metadata": {
        "id": "AmNs52EnjaUA"
      },
      "source": [
        "##Loop Conditions\n",
        "\n",
        "\n",
        "The loop repeats until a condition you set is met in what is called a conditional statement. Use your loop type and the control variable here.\n",
        "\n",
        "2. Run this cell to see how a while loop operates."
      ]
    },
    {
      "cell_type": "code",
      "metadata": {
        "id": "QTGDARNs5uCP",
        "outputId": "2cc251f7-cac3-4c97-8e1b-40d02f873c7d",
        "colab": {
          "base_uri": "https://localhost:8080/"
        }
      },
      "source": [
        "# Create a number variable\n",
        "number = 0\n",
        "# The loop with its conditional statement.\n",
        "# As long as running is true, the code inside this loop will run\n",
        "while number<= 6:\n",
        "  number +=1\n",
        "  print(number)"
      ],
      "execution_count": 5,
      "outputs": [
        {
          "output_type": "stream",
          "name": "stdout",
          "text": [
            "1\n",
            "2\n",
            "3\n",
            "4\n",
            "5\n",
            "6\n",
            "7\n"
          ]
        }
      ]
    },
    {
      "cell_type": "markdown",
      "metadata": {
        "id": "veZm9HkIkwLK"
      },
      "source": [
        "Quick! Click the stop button to stop the program! This loop will run forever, can you figure out why?\n",
        "\n",
        "<details>\n",
        "  <summary>Click to learn how!</summary>\n",
        "\n",
        "It's because the conditional never becomes false. In order for a while loop to stop running the conditional needs to become false.\n",
        "\n",
        "</details>\n",
        "\n",
        "Can you think of a way to make the loop stop running?\n",
        "\n",
        "\n",
        "\n",
        "\n",
        "\n",
        "\n",
        "<details>\n",
        "<summary>Click to see one example</summary>\n",
        "\n",
        "```\n",
        "# Create a number variable\n",
        "number = 0\n",
        "# The loop with its conditional statement.\n",
        "# As long as running is true, the code inside this loop will run\n",
        "while running:\n",
        "  number += 1\n",
        "  print(number)\n",
        "  if number == 200\n",
        "    running = False\n",
        "print(\"You did it!\")\n",
        "```\n",
        "</details>"
      ]
    },
    {
      "cell_type": "code",
      "metadata": {
        "id": "Era4VcgclVWr",
        "outputId": "099915c0-7051-4fe3-c588-420da98d352c",
        "colab": {
          "base_uri": "https://localhost:8080/"
        }
      },
      "source": [
        "# Create a control variable\n",
        "running = True\n",
        "# Create a number variable\n",
        "number = 0\n",
        "# The loop with its conditional statement.\n",
        "# As long as running is true, the code inside this loop will run\n",
        "while number<=20:\n",
        "  number += 1\n",
        "  print(number)\n",
        "  # Your code goes here:\n",
        "\n",
        "\n",
        "print(\"You did it!\")"
      ],
      "execution_count": 7,
      "outputs": [
        {
          "output_type": "stream",
          "name": "stdout",
          "text": [
            "1\n",
            "2\n",
            "3\n",
            "4\n",
            "5\n",
            "6\n",
            "7\n",
            "8\n",
            "9\n",
            "10\n",
            "11\n",
            "12\n",
            "13\n",
            "14\n",
            "15\n",
            "16\n",
            "17\n",
            "18\n",
            "19\n",
            "20\n",
            "21\n",
            "You did it!\n"
          ]
        }
      ]
    },
    {
      "cell_type": "markdown",
      "metadata": {
        "id": "kfctNvv0mvY1"
      },
      "source": [
        "Use while loops when a program must run an unknown amount of times. While loops are made of a loop control variable (made first), a conditional statement (the conditions that must be met for the loop to run), and a loop body (the actual code that will run)."
      ]
    }
  ]
}