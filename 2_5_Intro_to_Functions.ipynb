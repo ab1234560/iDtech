{
  "nbformat": 4,
  "nbformat_minor": 0,
  "metadata": {
    "colab": {
      "name": "2.5_Intro_to_Functions.ipynb",
      "provenance": [],
      "include_colab_link": true
    },
    "kernelspec": {
      "name": "python3",
      "display_name": "Python 3"
    },
    "language_info": {
      "name": "python"
    }
  },
  "cells": [
    {
      "cell_type": "markdown",
      "metadata": {
        "id": "view-in-github",
        "colab_type": "text"
      },
      "source": [
        "<a href=\"https://colab.research.google.com/github/ab1234560/iDtech/blob/main/2_5_Intro_to_Functions.ipynb\" target=\"_parent\"><img src=\"https://colab.research.google.com/assets/colab-badge.svg\" alt=\"Open In Colab\"/></a>"
      ]
    },
    {
      "cell_type": "markdown",
      "metadata": {
        "id": "BgWYX-mVVT7p"
      },
      "source": [
        "#Function Introduction\n",
        "\n",
        "\n",
        "There will be times when you want to perform a series of actions, and instead of writing those statements over and over every time, you can use a function!\n",
        "\n",
        "Function declarations look like this:\n",
        "\n",
        "\n",
        "\n",
        "```\n",
        " def function_name():\n",
        "      #Code to run goes here.\n",
        "      \n",
        "```\n",
        "\n",
        "1. Fill in the code for the body of the function so that it generates a random number between 0 and 2, and prints the results.\n"
      ]
    },
    {
      "cell_type": "code",
      "metadata": {
        "id": "mPW-NxFAVOCn",
        "outputId": "35b43efd-62c0-4c61-f10b-e16039d1128d",
        "colab": {
          "base_uri": "https://localhost:8080/"
        }
      },
      "source": [
        "import random\n",
        "\n",
        "def random_number():\n",
        "  # Add code here\n",
        "  print(random.randint(0,2))\n",
        "random_number()"
      ],
      "execution_count": 7,
      "outputs": [
        {
          "output_type": "stream",
          "name": "stdout",
          "text": [
            "0\n"
          ]
        }
      ]
    },
    {
      "cell_type": "markdown",
      "metadata": {
        "id": "kEHTUH9WV1ko"
      },
      "source": [
        "##Call a Function\n",
        "\n",
        "To Call a function put the name of it followed by opening and closing parentheses wherever you want it to run in your program.\n",
        "\n",
        "2. Run the cell below to call your function."
      ]
    },
    {
      "cell_type": "code",
      "metadata": {
        "id": "dhV9zk7SV_6d",
        "outputId": "6145fc58-031a-4a51-80d1-8a7f99e50301",
        "colab": {
          "base_uri": "https://localhost:8080/"
        }
      },
      "source": [
        "random_number()"
      ],
      "execution_count": 8,
      "outputs": [
        {
          "output_type": "stream",
          "name": "stdout",
          "text": [
            "0\n"
          ]
        }
      ]
    },
    {
      "cell_type": "markdown",
      "metadata": {
        "id": "raAb9hL0WDUX"
      },
      "source": [
        "##Return Values\n",
        "\n",
        "You can have a function **return** a value, and you can use that value to pull information out of the function after it runs.\n",
        "\n",
        "\n",
        "3. Looking at the same function as before, update it so that instead of printing rand, it returns rand."
      ]
    },
    {
      "cell_type": "code",
      "metadata": {
        "id": "70R5bA7lWJ5J",
        "outputId": "4d856348-6ff2-4bf1-b320-f38c73d8da57",
        "colab": {
          "base_uri": "https://localhost:8080/"
        }
      },
      "source": [
        "def random_number():\n",
        "  rand = random.randrange(0,2)\n",
        "  # Update the code here:\n",
        "  print(rand)\n",
        "\n",
        "\n",
        "a_number = random_number()\n",
        "print(a_number)"
      ],
      "execution_count": 9,
      "outputs": [
        {
          "output_type": "stream",
          "name": "stdout",
          "text": [
            "1\n",
            "None\n"
          ]
        }
      ]
    },
    {
      "cell_type": "markdown",
      "metadata": {
        "id": "ZEnlopprWnRY"
      },
      "source": [
        "##Arguments\n",
        "\n",
        "An **argument** is a way for you to provide more information to a function. The function can then use that information as it runs, like a variable.\n",
        "\n",
        "Arguments go inside the parentheses after a function. You can add as many arguments as you want, as long as they are separated by commas.\n",
        "\n",
        "4. Run the code below to see how an argument could work in your random_number function."
      ]
    },
    {
      "cell_type": "code",
      "metadata": {
        "id": "Qh0bsHmCW6UZ",
        "outputId": "83759881-6624-4609-ee9f-793fed0f8a8a",
        "colab": {
          "base_uri": "https://localhost:8080/"
        }
      },
      "source": [
        "def random_number(max_int):\n",
        "    rand = random.randrange(0, max_int)\n",
        "    return rand\n",
        "\n",
        "a_number = random_number(5)\n",
        "print(a_number)"
      ],
      "execution_count": 18,
      "outputs": [
        {
          "output_type": "stream",
          "name": "stdout",
          "text": [
            "3\n"
          ]
        }
      ]
    },
    {
      "cell_type": "markdown",
      "metadata": {
        "id": "odHUIRV1W-_L"
      },
      "source": [
        "###Try this!\n",
        "\n",
        "Can you create a function that takes two arguments and generates a random number in between those two numbers?"
      ]
    },
    {
      "cell_type": "code",
      "metadata": {
        "id": "1_2rlrn3XNeS",
        "outputId": "e554773b-88e9-4b3e-e260-ac6e4ffe5446",
        "colab": {
          "base_uri": "https://localhost:8080/"
        }
      },
      "source": [
        "# Add your code here:\n",
        "\n",
        "def random_number(num, max_int):\n",
        "    rand = random.randrange(num, max_int)\n",
        "    return rand\n",
        "\n",
        "# Test using this code\n",
        "a_number = random_number(5, 10)\n",
        "print(a_number)"
      ],
      "execution_count": 20,
      "outputs": [
        {
          "output_type": "stream",
          "name": "stdout",
          "text": [
            "6\n"
          ]
        }
      ]
    },
    {
      "cell_type": "markdown",
      "metadata": {
        "id": "hwEjy2HeXU_2"
      },
      "source": [
        "<details>\n",
        "<summary> Click here for one example</summary>\n",
        "\n",
        "```\n",
        "def random_number(min_int, max_int):\n",
        "  rand = random.randrange(min_int, max_int):\n",
        "  return rand\n",
        "\n",
        "```\n",
        "\n",
        "</details>"
      ]
    }
  ]
}