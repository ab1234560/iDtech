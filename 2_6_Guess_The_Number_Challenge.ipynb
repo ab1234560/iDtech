{
  "nbformat": 4,
  "nbformat_minor": 0,
  "metadata": {
    "colab": {
      "name": "2.6_Guess_The_Number_Challenge.ipynb",
      "provenance": [],
      "include_colab_link": true
    },
    "kernelspec": {
      "name": "python3",
      "display_name": "Python 3"
    },
    "language_info": {
      "name": "python"
    }
  },
  "cells": [
    {
      "cell_type": "markdown",
      "metadata": {
        "id": "view-in-github",
        "colab_type": "text"
      },
      "source": [
        "<a href=\"https://colab.research.google.com/github/ab1234560/iDtech/blob/main/2_6_Guess_The_Number_Challenge.ipynb\" target=\"_parent\"><img src=\"https://colab.research.google.com/assets/colab-badge.svg\" alt=\"Open In Colab\"/></a>"
      ]
    },
    {
      "cell_type": "markdown",
      "metadata": {
        "id": "E1BtiRZFTl8b"
      },
      "source": [
        "#Number Guessing Game\n",
        "\n",
        "In this notebook you are challenged to use your knowledge of loops, conditionals, input, random numbers, and printing to create a number guessing game.\n",
        "\n",
        "In this challenge, you'll be making a guess the number game. Your program will generate a random number and then ask the user to guess what it is.\n",
        "\n",
        "When they guess wrong, your program will tell them if they are too high or too low.\n",
        "\n",
        "###Core Freatures Breakdown\n",
        "- Generate a random number between 1 and 100.\n",
        "\n",
        "- Let the user guess what the number is until they get it right.\n",
        "\n",
        "- Give the user feedback after each guess- tell them if their guess is too high, too low, or just right.\n",
        "\n",
        "- Begin the game again.\n"
      ]
    },
    {
      "cell_type": "code",
      "metadata": {
        "id": "-j0-ot-5TlKw",
        "outputId": "98eeb3ea-9e51-46ba-c261-42d0761daf6a",
        "colab": {
          "base_uri": "https://localhost:8080/"
        }
      },
      "source": [
        "# Add your code here:\n",
        "import random\n",
        "Number = int(random.randint(0, 100))\n",
        "check = True\n",
        "while check:\n",
        "  GuessNumber = int(input(\"Guess a number?\\n\"))\n",
        "  if (GuessNumber < Number):\n",
        "      print (\"Go higher\")\n",
        "  if (GuessNumber > Number):\n",
        "      print (\"Go lower\")\n",
        "  if (GuessNumber == Number):\n",
        "      print (\"You got it\")\n",
        "      check = False"
      ],
      "execution_count": 15,
      "outputs": [
        {
          "output_type": "stream",
          "name": "stdout",
          "text": [
            "Guess a number?\n",
            "7\n",
            "Go higher\n",
            "Guess a number?\n",
            "9\n",
            "Go higher\n",
            "Guess a number?\n",
            "54\n",
            "Go higher\n",
            "Guess a number?\n",
            "78\n",
            "Go lower\n",
            "Guess a number?\n",
            "69\n",
            "Go lower\n",
            "Guess a number?\n",
            "67\n",
            "Go lower\n",
            "Guess a number?\n",
            "65\n",
            "Go lower\n",
            "Guess a number?\n",
            "63\n",
            "Go lower\n",
            "Guess a number?\n",
            "6\n",
            "Go higher\n",
            "Guess a number?\n",
            "62\n",
            "Go lower\n",
            "Guess a number?\n",
            "59\n",
            "Go lower\n",
            "Guess a number?\n",
            "58\n",
            "Go lower\n",
            "Guess a number?\n",
            "55\n",
            "You got it\n"
          ]
        }
      ]
    },
    {
      "cell_type": "markdown",
      "metadata": {
        "id": "ogeubfG_UYxb"
      },
      "source": [
        "###Bonus Features\n",
        "\n",
        "- Create a variable to keep track of the number of gueses\n",
        "\n",
        "- Add another loop so that the game can be played a set number of times\n",
        "\n",
        "- Save all the number of guesses to a list, and tell the user what the best score is.\n",
        "\n",
        "- Add a second death number that the user is trying to avoid, and if the user guesses that number the game is over.\n",
        "\n",
        "- Add a function for code that you re-use often, like getting user input or generating the random number\n"
      ]
    }
  ]
}